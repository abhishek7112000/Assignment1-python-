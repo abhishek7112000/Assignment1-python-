{
 "cells": [
  {
   "cell_type": "markdown",
   "id": "97f595a1-3562-4ebf-9696-50e57a88ddb4",
   "metadata": {},
   "source": [
    "1. In the below elements which of them are values or an expression? eg:- values can be integer or string and expressions will be mathematical operators.\n",
    "* \n",
    "'hello'\n",
    "-87.8\n",
    "- \n",
    "/ \n",
    "+\n",
    "\n",
    "6\n",
    "ANSWER -   -87.8"
   ]
  },
  {
   "cell_type": "markdown",
   "id": "7e557267-d0fd-435e-9a40-c359e61a9eeb",
   "metadata": {},
   "source": [
    "2. What is the difference between string and variable?\n",
    "ANSWER - A Python variable is a symbolic name that is a reference or pointer to an object. Once an object is assigned to a variable, you can refer to the object by that name. But the data itself is still contained within the object."
   ]
  },
  {
   "cell_type": "code",
   "execution_count": null,
   "id": "fec62c4c-f804-423f-b378-ae51bb6e46dd",
   "metadata": {},
   "outputs": [],
   "source": [
    "3. Describe three different data types.\n",
    "ANSWER- Text Type:\tstr\n",
    "        Numeric Types:\tint, float, complex\n",
    "        Sequence Types:\tlist, tuple, range\n",
    "        Mapping Type:\tdict\n",
    "        Set Types:\tset, frozenset\n",
    "        Boolean Type:\tbool\n",
    "        Binary Types:\tbytes, bytearray, memoryview\n",
    "        None Type:\tNoneType"
   ]
  },
  {
   "cell_type": "code",
   "execution_count": null,
   "id": "b04f65df-5403-4a0e-a140-416877eb9f46",
   "metadata": {},
   "outputs": [],
   "source": [
    "4. What is an expression made up of? What do all expressions do?\n",
    "ANSWER - An expression is a combination of values, variables, operators, and calls to functions. Expressions need to be evaluated. If you ask Python to print an expression, the interpreter evaluates the expression and displays the result"
   ]
  },
  {
   "cell_type": "code",
   "execution_count": null,
   "id": "efdf0217-16fa-4fd8-8f75-951ef4f55361",
   "metadata": {},
   "outputs": [],
   "source": [
    "5. This assignment statements, like spam = 10. What is the difference between an\n",
    "expression and a statement?\n",
    "ANSWER- Statements represent an action or command e.g print statements, assignment statements. Expression is a combination of variables, operations and values that yields a result value."
   ]
  },
  {
   "cell_type": "code",
   "execution_count": null,
   "id": "088f0f00-b919-4ea2-a339-a20925dacae1",
   "metadata": {},
   "outputs": [],
   "source": [
    "6. After running the following code, what does the variable bacon contain?\n",
    "bacon = 22\n",
    "bacon + 1\n",
    "\n",
    "ANSWER - 22"
   ]
  },
  {
   "cell_type": "code",
   "execution_count": 1,
   "id": "6761a023-2484-404e-aff7-011069222b2a",
   "metadata": {},
   "outputs": [
    {
     "name": "stdout",
     "output_type": "stream",
     "text": [
      "22\n"
     ]
    }
   ],
   "source": [
    "7. What should the values of the following two terms be?\n",
    "'spam' + 'spamspam'\n",
    "'spam * 3'\n",
    "ANSWER - ('spam' + 'spamspam'='sapamspamspam', 'spam '* 3= spam spam spam  )"
   ]
  },
  {
   "cell_type": "code",
   "execution_count": null,
   "id": "6a42fcbe-1777-4152-b7fc-ecdba7817142",
   "metadata": {},
   "outputs": [],
   "source": [
    "8. Why is eggs a valid variable name while 100 is invalid?\n",
    "ANSWER - Variable names cannot begin with a number so it is invalid.\n"
   ]
  },
  {
   "cell_type": "code",
   "execution_count": null,
   "id": "9e568b36-b7d8-4719-a796-3582fe4ccc3d",
   "metadata": {},
   "outputs": [],
   "source": [
    "9. What three functions can be used to get the integer, floating-point number, or string\n",
    "version of a value?\n",
    "\n",
    "ANSWER - The int(), float(), and str() functions will evaluate to the integer, floating-point number, and string versions of the value passed to them."
   ]
  },
  {
   "cell_type": "code",
   "execution_count": null,
   "id": "ce9f8561-bd12-4de2-9915-652bcaecbe0d",
   "metadata": {},
   "outputs": [],
   "source": [
    "10. Why does this expression cause an error? How can you fix it?\n",
    "'I have eaten' + 99 +' burritos'\n",
    "ANSWER - we cannot add strings with integer so we have to convert the integer(99) to string(99)and then add it."
   ]
  }
 ],
 "metadata": {
  "kernelspec": {
   "display_name": "Python 3 (ipykernel)",
   "language": "python",
   "name": "python3"
  },
  "language_info": {
   "codemirror_mode": {
    "name": "ipython",
    "version": 3
   },
   "file_extension": ".py",
   "mimetype": "text/x-python",
   "name": "python",
   "nbconvert_exporter": "python",
   "pygments_lexer": "ipython3",
   "version": "3.10.6"
  }
 },
 "nbformat": 4,
 "nbformat_minor": 5
}
